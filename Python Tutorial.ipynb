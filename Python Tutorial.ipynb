{
 "cells": [
  {
   "cell_type": "markdown",
   "id": "d62761ee",
   "metadata": {},
   "source": [
    "# Introduction #\n",
    "Explanation of the Script and list with content"
   ]
  },
  {
   "cell_type": "markdown",
   "id": "5e510cf9",
   "metadata": {},
   "source": [
    "# Anaconda #\n",
    "The Anaconda distribution is a widely used open source platform for data science and scientific computing. It contains an extensive collection of libraries and tools, so you will not have to install them yourself during this course. During this course, you will be provided with some Jupyter Notebook scripts to help you get started with physics informed neural networks (PINN). If you have not yet installed Anaconda, you can use the following link to download and install the installer for Anaconda:\n",
    "https://www.anaconda.com/download"
   ]
  },
  {
   "cell_type": "markdown",
   "id": "d3b5f004",
   "metadata": {},
   "source": [
    "# Jupyter Notebook\n",
    "Jupyter Notebook is an interactive development environment for programming, data analysis and scientific calculations. It allows you to create and execute code in individual sections called cells and display text, graphics and results directly alongside the code. The tutorials are written in Jupyter Notebook for exactly these reasons. However, it should also be mentioned that Jupyter Notebook requires more computing time than many other development environments and for tasks such as the training of neural networks, the development environment should be changed. The following are some tips for working with Jupyter Notebook.\n",
    "\n",
    "### Hint 1: Learn shortcuts\n",
    "Learning shortcuts in Jupyter Notebook can significantly increase your productivity. Here are some important shortcuts and recommendations:\n",
    "- Shift + Enter: Executes the current cell and moves to the next cell. If there is no next cell, a new one will be created.\n",
    "- A (in command mode): Inserts a new cell above the current cell.\n",
    "- B (in command mode): Inserts a new cell below the current cell.\n",
    "- D, D (double press D in command mode): Deletes the current cell.\n",
    "- Y (in command mode): Changes the type of the current cell to a code cell.\n",
    "- M (in command mode): Changes the type of the current cell to a Markdown cell.\n",
    "- X, C, V (in command mode): Cut, copy and paste cells.\n",
    "- H (in command mode): Opens the keyboard shortcut help to display more shortcuts.\n",
    "\n",
    "### Hint 2: Use Markdown\n",
    "Markdown allows you to document your analyses and create clear, well-formatted notebooks."
   ]
  },
  {
   "cell_type": "raw",
   "id": "05a44969",
   "metadata": {},
   "source": [
    "- Headings: Use # for headings (e.g., # Heading 1, ## Heading 2).\n",
    "- Text formatting: You can make text bold (**bold**) or italic (*italic*).\n",
    "- Lists: Create ordered (1., 2., ...) or unordered (-, *) lists.\n",
    "- Links: Add links with [text](URL).\n",
    "- Images: Include images with ![Description](URL).\n",
    "- Mathematical formulas: Use LaTeX syntax in Markdown cells to write mathematical formulas, e.g., $\\sum_{i=1}^{n} x_i$."
   ]
  },
  {
   "cell_type": "markdown",
   "id": "d454f1b2",
   "metadata": {},
   "source": [
    "### Hint 3: Modularize code\n",
    "\n",
    "It is advisable to split your code in Jupyter Notebooks into smaller, easy to understand cells and add comments to improve readability. This makes debugging, maintenance and collaboration easier. You can organize code into functions or classes and test them in separate cells. This also promotes the reusability of your code.\n",
    "\n",
    "### Hint 4: Kernel restart\n",
    "\n",
    "Sometimes your code in Jupyter Notebook may not work as expected or you may experience resource problems. In such cases, you can restart the kernel, i.e. the computing unit, without closing the entire notebook. To do this, go to \"Kernel\" in the menu and select \"Restart\". This will reset all variables and states and you can start from the beginning without having to close and reopen the notebook.\n",
    "\n",
    "### Hint 5: Data backup\n",
    "\n",
    "It is important to back up the code regularly to avoid data loss. Use the \"Save\" function or press Ctrl + S (or Cmd + S on Mac) to save your progress. It's also worth using external backup methods like GitHub in combination with GitKraken to track versions of your notebook and make sure you don't lose your work."
   ]
  },
  {
   "cell_type": "markdown",
   "id": "99fbd9f6",
   "metadata": {},
   "source": [
    "# Python: The basics\n",
    "In the following section we will refresh your Python knowledge. If you have no previous knowledge of Python, it is worth acquiring it via YouTube tutorials (Recommendation: [Python As Fast as Possible - Learn Python in ~75 Minutes](https://www.youtube.com/watch?v=VchuKL44s6E)) and programming projects. \n",
    "\n",
    "### 1. Variables, data types, operators and expressions:\n",
    "In Python, you can create **variables** without an explicit type declaration. Examples of data types are int (integers), float (floating point numbers), str (strings) and bool (Boolean values). Examples of data types:\n",
    "- int: Whole numbers, e.g. x = 5\n",
    "- float: Floating point numbers, e.g. y = 3.14\n",
    "- str: Character strings, e.g. name = \"John\"\n",
    "- bool: Boolean values (True/False), e.g. is_true = True\n",
    "\n",
    "Python supports different types of **operators**:\n",
    "- Mathematical operators (+, -, *, /, %, **)\n",
    "- Comparison operators (==, !=, <, >, <=, >=)\n",
    "- Logical operators (and, or, not)\n",
    "\n",
    "1. Mathematical operators:\n",
    "- $+$ (addition): Performs an addition of numbers. Example: result = 5 + 3 gives result with the value 8.\n",
    "\n",
    "- $-$ (Subtraction): Performs a subtraction of numbers. Example: result = 10 - 4 gives result with the value 6.\n",
    "\n",
    "- $*$ (Multiplication): Performs a multiplication of numbers. Example: result = 7 * 2 gives result with the value 14.\n",
    "\n",
    "- $/$ (division): Performs a division of numbers. Example: result = 20 / 4 gives result with the value 5.0 (float).\n",
    "\n",
    "- $\\%$ (modulo): Returns the remainder of a division. Example: remainder = 10 % 3 results in remainder with the value 1.\n",
    "\n",
    "- $**$ (power): Raises one number to the power of another. Example: result = 2 ** 3 gives result with the value 8.\n",
    "\n",
    "2. Comparison operators:\n",
    "\n",
    "- $==$ (Equal): Checks whether two values are equal. Example: is_equal = (5 == 5) results in is_equal with the value True.\n",
    "\n",
    "- $!=$ (Unequal): Checks whether two values are unequal.\n",
    "    Example: is_not_equal = (5 != 3) results in is_not_equal with the value True.\n",
    "\n",
    "- $<$ (Less than): Checks whether one value is smaller than another. Example: is_smaller = (2 < 5) results in is_smaller with the value True.\n",
    "\n",
    "- $>$ (Greater than): Checks whether one value is greater than another. Example: is_greater = (7 > 4) results in is_greater with the value True.\n",
    "\n",
    "- $<=$ (Less than or equal to): Checks whether one value is less than or equal to another. Example: is_smaller_or_equal = (3 <= 3) results in is_smaller_or_equal with the value True.\n",
    "\n",
    "- $>=$ (greater than or equal to): Checks whether one value is greater than or equal to another. Example: is_greater_or_equal = (6 >= 6) results in is_greater_or_equal with the value True.\n",
    "\n",
    "3. Logical operators:\n",
    "\n",
    "- and: Combines two conditions, and the overall statement is true if both conditions are true. Example: result = (True and False) results in result with the value False.\n",
    "\n",
    "- or: Links two conditions, and the overall statement is true if at least one condition is true. Example: result = (True or False) results in result with the value True.\n",
    "\n",
    "- not: Negates a condition, i.e. if the condition is true, it becomes false and vice versa. Example: result = not True results in result with the value False.\n",
    "\n",
    "### 2. Lists, tuples and dictionaries\n",
    "**Lists** are ordered collections of elements (e.g. integer, floats, strings). They are changeable, i.e. elements can be added, removed or changed."
   ]
  },
  {
   "cell_type": "code",
   "execution_count": 9,
   "id": "400027c2",
   "metadata": {},
   "outputs": [
    {
     "name": "stdout",
     "output_type": "stream",
     "text": [
      "1 2 3 4\n"
     ]
    }
   ],
   "source": [
    "# Create list\n",
    "my_list = [4, 2, 3]\n",
    "# Add element\n",
    "my_list.append(4)\n",
    "# Change element at a specific index\n",
    "my_list[0] = 1\n",
    "# Show elements of the list\n",
    "print(*my_list)"
   ]
  },
  {
   "cell_type": "markdown",
   "id": "4a671fcf",
   "metadata": {},
   "source": [
    "**Tuples** are similar to lists, but are unchangeable. Once they have been created, you cannot change their elements."
   ]
  },
  {
   "cell_type": "code",
   "execution_count": 11,
   "id": "6f3cc20f",
   "metadata": {},
   "outputs": [],
   "source": [
    "# Create tupel\n",
    "my_tupel = (1, 2, 3)\n",
    "# Accessing elements\n",
    "element = my_tupel[1]"
   ]
  },
  {
   "cell_type": "markdown",
   "id": "baff4473",
   "metadata": {},
   "source": [
    "**Dictionaries** store pairs of keys and values. They are useful for accessing values via user-defined keys."
   ]
  },
  {
   "cell_type": "code",
   "execution_count": 12,
   "id": "8d39978d",
   "metadata": {},
   "outputs": [],
   "source": [
    "# Create dictionary\n",
    "my_dict = {'name': 'Max', 'age': 30}\n",
    "# Access value via key\n",
    "name = my_dict['name']\n",
    "# Change value\n",
    "my_dict['age'] = 31"
   ]
  },
  {
   "cell_type": "markdown",
   "id": "efafa100",
   "metadata": {},
   "source": [
    "### 3. Statements and loops\n",
    "In Python, **If-Else statements** allow certain blocks of code to be executed based on conditions. They are essential for making decisions in code.\n",
    "- If: Starts the condition. If the condition is true, the following code block is executed.\n",
    "- Elif: Stands for \"else if\". It enables several conditions to be checked one after the other.\n",
    "- Else: Catches all cases that were not covered by previous if or elif conditions.\n",
    "\n",
    "Example:"
   ]
  },
  {
   "cell_type": "code",
   "execution_count": 14,
   "id": "ae8665fb",
   "metadata": {},
   "outputs": [
    {
     "name": "stdout",
     "output_type": "stream",
     "text": [
      "x is greater than 10\n"
     ]
    }
   ],
   "source": [
    "x = 20\n",
    "if x < 10:\n",
    "    print(\"x is less than 10\")\n",
    "elif x == 10:\n",
    "    print(\"x is equal to 10\")\n",
    "else:\n",
    "    print(\"x is greater than 10\")"
   ]
  },
  {
   "cell_type": "markdown",
   "id": "3d8b9258",
   "metadata": {},
   "source": [
    "Loops make it possible to repeat a code block several times. Python mainly offers two types of loops: for and while. **For loops** are used to iterate over a sequence (such as a list, a tuple, a dictionary, a set or a string)."
   ]
  },
  {
   "cell_type": "code",
   "execution_count": 17,
   "id": "136c9a3b",
   "metadata": {},
   "outputs": [
    {
     "name": "stdout",
     "output_type": "stream",
     "text": [
      "red\n",
      "green\n",
      "blue\n"
     ]
    }
   ],
   "source": [
    "colors = [\"red\", \"green\", \"blue\"]\n",
    "for color in colors:\n",
    "    print(color)"
   ]
  },
  {
   "cell_type": "markdown",
   "id": "e99a12a2",
   "metadata": {},
   "source": [
    "Range functions are often used with for loops to generate a sequence of numbers."
   ]
  },
  {
   "cell_type": "code",
   "execution_count": 16,
   "id": "378286bf",
   "metadata": {},
   "outputs": [
    {
     "name": "stdout",
     "output_type": "stream",
     "text": [
      "0\n",
      "1\n",
      "2\n",
      "3\n",
      "4\n"
     ]
    }
   ],
   "source": [
    "for i in range(5):\n",
    "    print(i)"
   ]
  },
  {
   "cell_type": "markdown",
   "id": "cbf11285",
   "metadata": {},
   "source": [
    "**While loops** execute a code block as long as a condition is true."
   ]
  },
  {
   "cell_type": "code",
   "execution_count": 18,
   "id": "c8116aa1",
   "metadata": {},
   "outputs": [
    {
     "name": "stdout",
     "output_type": "stream",
     "text": [
      "0\n",
      "1\n",
      "2\n",
      "3\n",
      "4\n"
     ]
    }
   ],
   "source": [
    "i = 0\n",
    "while i < 5:\n",
    "    print(i)\n",
    "    i += 1"
   ]
  },
  {
   "cell_type": "markdown",
   "id": "e7a3eafc",
   "metadata": {},
   "source": [
    "If the condition in a while loop always remains true, the loop will continue to run infinitely. Loop controls can be used to avoid an infinite loop:\n",
    "- Break: Ends the entire loop.\n",
    "- Continue: Skips the rest of the code block in the current iteration and continues with the next one."
   ]
  },
  {
   "cell_type": "code",
   "execution_count": 20,
   "id": "12dccb53",
   "metadata": {},
   "outputs": [
    {
     "name": "stdout",
     "output_type": "stream",
     "text": [
      "0\n",
      "1\n",
      "2\n",
      "3\n",
      "4\n"
     ]
    }
   ],
   "source": [
    "for i in range(10):\n",
    "    if i == 5:\n",
    "        break # Ends the loop if i is 5\n",
    "    print(i)"
   ]
  },
  {
   "cell_type": "code",
   "execution_count": 21,
   "id": "4f04fe44",
   "metadata": {},
   "outputs": [
    {
     "name": "stdout",
     "output_type": "stream",
     "text": [
      "1\n",
      "3\n",
      "5\n",
      "7\n",
      "9\n"
     ]
    }
   ],
   "source": [
    "for i in range(10):\n",
    "    if i % 2 == 0:\n",
    "        continue # Skips the rest of the code block for even numbers\n",
    "    print(i) # This is only executed for odd numbers"
   ]
  },
  {
   "cell_type": "markdown",
   "id": "2ea604b7",
   "metadata": {},
   "source": [
    "### 4. Functions and modules\n",
    "In Python, **functions** are reusable blocks of code that perform a specific task. They help to modularize the code, improve readability and make it easier to reuse code. A function is defined with the keyword *def* followed by the function name and brackets, which can contain parameters. The code block within the function is indented (eingerückt). Once a function has been defined, it can be called by specifying its name and passing any required arguments.\n",
    "\n",
    "- Parameters: Variables that are used in the function definition. They serve as placeholders for the values that the function receives when it is called.\n",
    "- Arguments: The actual values that you pass to a function when it is called.\n",
    "\n",
    "Functions can return values that can then be used further in the program. This is done with the return statement.\n",
    "\n",
    "Example:"
   ]
  },
  {
   "cell_type": "code",
   "execution_count": 23,
   "id": "20bfed13",
   "metadata": {},
   "outputs": [
    {
     "name": "stdout",
     "output_type": "stream",
     "text": [
      "8\n"
     ]
    }
   ],
   "source": [
    "def add(x, y):\n",
    "    return x + y\n",
    "\n",
    "result = add(5, 3)\n",
    "print(result)"
   ]
  },
  {
   "cell_type": "markdown",
   "id": "ffdd363c",
   "metadata": {},
   "source": [
    "**Modules** in Python are files that can contain functions, classes and variables. Modules enable a logical organization of the code. You can combine thematically related functions and classes in a module. Creating modules makes it possible to reuse programs. As part of the course, you will import modules yourself, e.g. to solve ordinary differential equations (ODE solver).\n",
    "\n",
    "To use a module, it must first be imported using the import statement."
   ]
  },
  {
   "cell_type": "code",
   "execution_count": 24,
   "id": "14510188",
   "metadata": {},
   "outputs": [
    {
     "name": "stdout",
     "output_type": "stream",
     "text": [
      "4.0\n"
     ]
    }
   ],
   "source": [
    "import math # Imports the standard module math\n",
    "\n",
    "print(math.sqrt(16))  # Uses the sqrt function from the math module"
   ]
  },
  {
   "cell_type": "markdown",
   "id": "d6bba69c",
   "metadata": {},
   "source": [
    "To create your own module, you must first define and save functions in a Python file (e.g. mymodule.py). You can then import this file into another Python script and use the functions."
   ]
  },
  {
   "cell_type": "raw",
   "id": "ae4cd52e",
   "metadata": {},
   "source": [
    "# In mymodule.py\n",
    "def say_hello(name):\n",
    "    print(f \"Hello {name}!\")\n",
    "\n",
    "# In another Python script\n",
    "import mymodule\n",
    "\n",
    "mymodule.say_hello('world') # Calls the say_hello function from mymodule"
   ]
  },
  {
   "cell_type": "markdown",
   "id": "2a54a1bc",
   "metadata": {},
   "source": [
    "### 5. Classes, methods, instances and inheritance\n",
    "\n",
    "In Python, **classes** are a central component of object-oriented programming (OOP). Classes are like blueprints for creating objects (an instance of a class). An object is a collection of data (variables) and methods (functions) that access and manipulate this data. Classes define the type of data that the object contains and the **methods** that operate on this data. __ init __ is a special method that is called automatically when a new object of the class is created. It is often used to initialize the initial values of variables. \n",
    "\n",
    "Example:"
   ]
  },
  {
   "cell_type": "code",
   "execution_count": 32,
   "id": "4dc8aee2",
   "metadata": {},
   "outputs": [
    {
     "name": "stdout",
     "output_type": "stream",
     "text": [
      "I am a method of the class!\n",
      "I am a variable\n"
     ]
    }
   ],
   "source": [
    "# Definition of the MyClass class\n",
    "class MyClass:\n",
    "    # Initialization or constructor method\n",
    "    def __init__(self):\n",
    "        # Instance variable 'variable' is created and initialized\n",
    "        self.variable = \"I am a variable\"\n",
    "\n",
    "    # Method named 'function' of the class\n",
    "    def function(self):\n",
    "        # When called, this method prints a message\n",
    "        print(\"I am a method of the class!\")\n",
    "\n",
    "# Create an instance of the MyClass class       \n",
    "instance = MyClass()\n",
    "# Call the 'function' method of the instance\n",
    "instance.function()\n",
    "# Access the instance variable 'variable' and output its value\n",
    "print(instance.variable)"
   ]
  },
  {
   "cell_type": "markdown",
   "id": "b06de9cb",
   "metadata": {},
   "source": [
    "There is also a differentiation between class variables and instance variables: \n",
    "\n",
    "- Instance variables are unique for each instance of the class. In the example above, name and alter are instance variables.\n",
    "- Class variables are variables that are shared for all instances of the class.\n",
    "\n",
    "Example:"
   ]
  },
  {
   "cell_type": "code",
   "execution_count": 33,
   "id": "532ce9ff",
   "metadata": {},
   "outputs": [],
   "source": [
    "class Person:\n",
    "    species = \"Homo sapiens\" # class variable\n",
    "\n",
    "    def __init__(self, name, alter):\n",
    "        self.name = name # instance variable\n",
    "        self.alter = alter # instance variable"
   ]
  },
  {
   "cell_type": "markdown",
   "id": "b907cb83",
   "metadata": {},
   "source": [
    "**Inheritance** is a concept of object-oriented programming in which a new class (child class or derived class) can adopt the properties and methods of an existing class (parent class or base class). Inheritance enables the reuse of code and the creation of hierarchies of classes that have more complex relationships and structures.\n",
    "\n",
    "- Parent class: The class whose properties and methods are inherited.\n",
    "- Child class: The class that inherits from the base class.\n",
    "\n",
    "Example:"
   ]
  },
  {
   "cell_type": "code",
   "execution_count": 38,
   "id": "16eba7be",
   "metadata": {},
   "outputs": [
    {
     "name": "stdout",
     "output_type": "stream",
     "text": [
      "Breathe: On/Off\n",
      "Human breathing: Breathe in and out deeply\n",
      "Peter says: Hello world!\n",
      "Is Peter alive? True\n"
     ]
    }
   ],
   "source": [
    "# Base class defined as living being\n",
    "class Living_being:\n",
    "    # Constructor of the base class\n",
    "    def __init__(self):\n",
    "        self.alive = True # A property that all living things share\n",
    "\n",
    "    # A method that is common to all living beings\n",
    "    def breathe(self):\n",
    "        print(\"Breathe: On/Off\")\n",
    "\n",
    "# Derived class defined as human, inherits from living beings\n",
    "class Human(Living_being):\n",
    "    # Constructor of the derived class\n",
    "    def __init__(self, name):\n",
    "        super().__init__() # Initializes the construction of the base class\n",
    "        self.name = name # An additional property specific to humans\n",
    "\n",
    "    # An additional method that is specific to humans\n",
    "    def speak(self, words):\n",
    "        print(f\"{self.name} says: {words}\")\n",
    "\n",
    "    # Override the breathe method of the base class\n",
    "    def breathe(self):\n",
    "        super().breathe() # Call the original method breathe of living beings\n",
    "        print(\"Human breathing: Breathe in and out deeply\")\n",
    "\n",
    "# Create an instance of the derived class\n",
    "peter = Human(\"Peter\")\n",
    "# Calls the overridden method 'breathe' of human\n",
    "peter.breathe() \n",
    "\n",
    "# Calls the 'speak' method from human\n",
    "peter.speak(\"Hello world!\") \n",
    "\n",
    "# Access to the property of living beings\n",
    "print(f\"Is Peter alive? {peter.alive}\") "
   ]
  },
  {
   "cell_type": "markdown",
   "id": "32650ad9",
   "metadata": {},
   "source": [
    "# Python: Matplotlib\n",
    "\n",
    "Als nächstes Grundlagen in Numpy, Matlab und Pytorch erklären."
   ]
  },
  {
   "cell_type": "code",
   "execution_count": null,
   "id": "7e05f863",
   "metadata": {},
   "outputs": [],
   "source": []
  },
  {
   "cell_type": "code",
   "execution_count": null,
   "id": "12c6bf05",
   "metadata": {},
   "outputs": [],
   "source": []
  },
  {
   "cell_type": "markdown",
   "id": "3be1ec32",
   "metadata": {},
   "source": [
    "**A few final words**: This Python tutorial should only cover the basics that are needed in this course. If you have not understood certain contents or if they are new to you, it makes sense to research them and use them in Python. "
   ]
  }
 ],
 "metadata": {
  "kernelspec": {
   "display_name": "Python 3 (ipykernel)",
   "language": "python",
   "name": "python3"
  },
  "language_info": {
   "codemirror_mode": {
    "name": "ipython",
    "version": 3
   },
   "file_extension": ".py",
   "mimetype": "text/x-python",
   "name": "python",
   "nbconvert_exporter": "python",
   "pygments_lexer": "ipython3",
   "version": "3.11.5"
  }
 },
 "nbformat": 4,
 "nbformat_minor": 5
}
